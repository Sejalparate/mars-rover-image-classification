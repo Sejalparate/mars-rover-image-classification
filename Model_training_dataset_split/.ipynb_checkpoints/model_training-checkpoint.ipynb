{
 "cells": [
  {
   "cell_type": "code",
   "execution_count": 1,
   "id": "7bb78522-2965-42e9-982d-bc42bd5f5d21",
   "metadata": {},
   "outputs": [
    {
     "name": "stdout",
     "output_type": "stream",
     "text": [
      "WARNING:tensorflow:From C:\\Users\\sejbp\\anaconda3\\Lib\\site-packages\\keras\\src\\losses.py:2976: The name tf.losses.sparse_softmax_cross_entropy is deprecated. Please use tf.compat.v1.losses.sparse_softmax_cross_entropy instead.\n",
      "\n"
     ]
    }
   ],
   "source": [
    "#Setting seeds for reproducibility\n",
    "import random\n",
    "random.seed(0)\n",
    "\n",
    "import numpy as np\n",
    "np.random.seed(0)\n",
    "\n",
    "import tensorflow as tf\n",
    "tf.random.set_seed(0)"
   ]
  },
  {
   "cell_type": "markdown",
   "id": "fd3b893c-7ae9-462f-860c-b0b0ed3a86a7",
   "metadata": {},
   "source": [
    "## Importing dependencies"
   ]
  },
  {
   "cell_type": "code",
   "execution_count": 2,
   "id": "2aed8655-a246-4eb8-b5a7-6de36c48195f",
   "metadata": {},
   "outputs": [],
   "source": [
    "from PIL import Image\n",
    "import cv2\n",
    "import pandas as pd\n",
    "import matplotlib.pyplot as plt\n",
    "import matplotlib.image as mpimg\n",
    "\n",
    "import os\n",
    "from pathlib import Path\n",
    "import glob\n",
    "\n",
    "from keras.preprocessing import image\n",
    "from tensorflow.keras.preprocessing.image import ImageDataGenerator\n",
    "import cv2\n",
    "from keras.applications.vgg16 import preprocess_input, decode_predictions\n",
    "from keras.preprocessing import image\n",
    "import skimage\n",
    "from skimage.feature import hessian_matrix, hessian_matrix_eigvals\n",
    "import scipy.ndimage as ndimage                        #from scipy.ndimage.filters import convolve\n",
    "from skimage import data, io, filters\n",
    "\n",
    "from sklearn.utils.class_weight import compute_class_weight\n",
    "from sklearn.preprocessing import StandardScaler\n",
    "from sklearn.preprocessing import MinMaxScaler\n",
    "from tensorflow.keras.utils import to_categorical      #from keras.utils.np_utils import to_categorical\n",
    "from sklearn.model_selection import train_test_split\n",
    "from keras import regularizers\n",
    "from sklearn.preprocessing import LabelEncoder\n",
    "from tensorflow.keras.utils import to_categorical      #from keras.utils import to_categorical\n",
    "from pydotplus import InvocationException\n",
    "\n",
    "from sklearn.metrics import confusion_matrix, accuracy_score, classification_report, roc_auc_score, roc_curve\n",
    "from sklearn.model_selection import GridSearchCV, cross_val_score\n",
    "from sklearn.metrics import mean_squared_error, r2_score\n",
    "from keras.optimizers import RMSprop,Adam,Optimizer,Optimizer, SGD\n",
    "from tensorflow.keras.models import Sequential\n",
    "from keras.layers import Dense, Dropout, Flatten, Conv2D, MaxPool2D, BatchNormalization,MaxPooling2D,BatchNormalization,\\\n",
    "                        Permute, TimeDistributed, Bidirectional,GRU, SimpleRNN, LSTM, GlobalAveragePooling2D, SeparableConv2D,\\\n",
    "                        ZeroPadding2D, Convolution2D, ZeroPadding2D,AveragePooling2D,Input, GlobalMaxPooling2D, Conv2DTranspose, Reshape\n",
    "\n",
    "from keras import models\n",
    "from keras import layers\n",
    "from keras import Input\n",
    "from keras.models import Model\n",
    "import tensorflow as tf\n",
    "from keras.utils import plot_model\n",
    "from keras.models import load_model\n",
    "from keras.regularizers import l1,l2,L1L2\n",
    "from tensorflow.keras import regularizers\n",
    "from tensorflow.keras import backend as K"
   ]
  },
  {
   "cell_type": "markdown",
   "id": "80d2672a-8607-4a04-aaa4-248dae6152de",
   "metadata": {},
   "source": [
    "Dataset link: https://www.kaggle.com/datasets/brsdincer/mars-surface-and-curiosity-image-set-nasa"
   ]
  },
  {
   "cell_type": "code",
   "execution_count": 3,
   "id": "feb3ef5e",
   "metadata": {},
   "outputs": [
    {
     "name": "stdout",
     "output_type": "stream",
     "text": [
      "Class 0: 80\n",
      "Class 1: 24\n",
      "Class 2: 36\n",
      "Class 3: 176\n",
      "Class 4: 59\n",
      "Class 5: 506\n",
      "Class 6: 66\n",
      "Class 7: 162\n",
      "Class 8: 2684\n",
      "Class 9: 371\n",
      "Class 10: 277\n",
      "Class 11: 26\n",
      "Class 12: 117\n",
      "Class 13: 68\n",
      "Class 14: 153\n",
      "Class 15: 111\n",
      "Class 16: 86\n",
      "Class 17: 137\n",
      "Class 18: 22\n",
      "Class 19: 68\n",
      "Class 20: 71\n",
      "Class 21: 200\n",
      "Class 22: 193\n",
      "Class 23: 998\n"
     ]
    }
   ],
   "source": [
    "print(\"Class 0:\", len(os.listdir(r'C:\\Users\\sejbp\\Coding\\GITHUB\\Mars-Rover-Image-Classification\\Mars Surface and Curiosity Image dataset\\main_dataset\\0')))\n",
    "print(\"Class 1:\", len(os.listdir(r'C:\\Users\\sejbp\\Coding\\GITHUB\\Mars-Rover-Image-Classification\\Mars Surface and Curiosity Image dataset\\main_dataset\\1')))\n",
    "print(\"Class 2:\", len(os.listdir(r'C:\\Users\\sejbp\\Coding\\GITHUB\\Mars-Rover-Image-Classification\\Mars Surface and Curiosity Image dataset\\main_dataset\\2')))\n",
    "print(\"Class 3:\", len(os.listdir(r'C:\\Users\\sejbp\\Coding\\GITHUB\\Mars-Rover-Image-Classification\\Mars Surface and Curiosity Image dataset\\main_dataset\\3')))\n",
    "print(\"Class 4:\", len(os.listdir(r'C:\\Users\\sejbp\\Coding\\GITHUB\\Mars-Rover-Image-Classification\\Mars Surface and Curiosity Image dataset\\main_dataset\\4')))\n",
    "print(\"Class 5:\", len(os.listdir(r'C:\\Users\\sejbp\\Coding\\GITHUB\\Mars-Rover-Image-Classification\\Mars Surface and Curiosity Image dataset\\main_dataset\\5')))\n",
    "print(\"Class 6:\", len(os.listdir(r'C:\\Users\\sejbp\\Coding\\GITHUB\\Mars-Rover-Image-Classification\\Mars Surface and Curiosity Image dataset\\main_dataset\\6')))\n",
    "print(\"Class 7:\", len(os.listdir(r'C:\\Users\\sejbp\\Coding\\GITHUB\\Mars-Rover-Image-Classification\\Mars Surface and Curiosity Image dataset\\main_dataset\\7')))\n",
    "print(\"Class 8:\", len(os.listdir(r'C:\\Users\\sejbp\\Coding\\GITHUB\\Mars-Rover-Image-Classification\\Mars Surface and Curiosity Image dataset\\main_dataset\\8')))\n",
    "print(\"Class 9:\", len(os.listdir(r'C:\\Users\\sejbp\\Coding\\GITHUB\\Mars-Rover-Image-Classification\\Mars Surface and Curiosity Image dataset\\main_dataset\\9')))\n",
    "print(\"Class 10:\", len(os.listdir(r'C:\\Users\\sejbp\\Coding\\GITHUB\\Mars-Rover-Image-Classification\\Mars Surface and Curiosity Image dataset\\main_dataset\\10')))\n",
    "print(\"Class 11:\", len(os.listdir(r'C:\\Users\\sejbp\\Coding\\GITHUB\\Mars-Rover-Image-Classification\\Mars Surface and Curiosity Image dataset\\main_dataset\\11')))\n",
    "print(\"Class 12:\", len(os.listdir(r'C:\\Users\\sejbp\\Coding\\GITHUB\\Mars-Rover-Image-Classification\\Mars Surface and Curiosity Image dataset\\main_dataset\\12')))\n",
    "print(\"Class 13:\", len(os.listdir(r'C:\\Users\\sejbp\\Coding\\GITHUB\\Mars-Rover-Image-Classification\\Mars Surface and Curiosity Image dataset\\main_dataset\\13')))\n",
    "print(\"Class 14:\", len(os.listdir(r'C:\\Users\\sejbp\\Coding\\GITHUB\\Mars-Rover-Image-Classification\\Mars Surface and Curiosity Image dataset\\main_dataset\\14')))\n",
    "print(\"Class 15:\", len(os.listdir(r'C:\\Users\\sejbp\\Coding\\GITHUB\\Mars-Rover-Image-Classification\\Mars Surface and Curiosity Image dataset\\main_dataset\\15')))\n",
    "print(\"Class 16:\", len(os.listdir(r'C:\\Users\\sejbp\\Coding\\GITHUB\\Mars-Rover-Image-Classification\\Mars Surface and Curiosity Image dataset\\main_dataset\\16')))\n",
    "print(\"Class 17:\", len(os.listdir(r'C:\\Users\\sejbp\\Coding\\GITHUB\\Mars-Rover-Image-Classification\\Mars Surface and Curiosity Image dataset\\main_dataset\\17')))\n",
    "print(\"Class 18:\", len(os.listdir(r'C:\\Users\\sejbp\\Coding\\GITHUB\\Mars-Rover-Image-Classification\\Mars Surface and Curiosity Image dataset\\main_dataset\\18')))\n",
    "print(\"Class 19:\", len(os.listdir(r'C:\\Users\\sejbp\\Coding\\GITHUB\\Mars-Rover-Image-Classification\\Mars Surface and Curiosity Image dataset\\main_dataset\\19')))\n",
    "print(\"Class 20:\", len(os.listdir(r'C:\\Users\\sejbp\\Coding\\GITHUB\\Mars-Rover-Image-Classification\\Mars Surface and Curiosity Image dataset\\main_dataset\\20')))\n",
    "print(\"Class 21:\", len(os.listdir(r'C:\\Users\\sejbp\\Coding\\GITHUB\\Mars-Rover-Image-Classification\\Mars Surface and Curiosity Image dataset\\main_dataset\\21')))\n",
    "print(\"Class 22:\", len(os.listdir(r'C:\\Users\\sejbp\\Coding\\GITHUB\\Mars-Rover-Image-Classification\\Mars Surface and Curiosity Image dataset\\main_dataset\\22')))\n",
    "print(\"Class 23:\", len(os.listdir(r'C:\\Users\\sejbp\\Coding\\GITHUB\\Mars-Rover-Image-Classification\\Mars Surface and Curiosity Image dataset\\main_dataset\\23')))\n"
   ]
  },
  {
   "cell_type": "code",
   "execution_count": 4,
   "id": "81896bed",
   "metadata": {},
   "outputs": [],
   "source": [
    "IMG_HEIGHT = 180\n",
    "IMG_WIDTH = 180\n",
    "batch_size = 32"
   ]
  },
  {
   "cell_type": "markdown",
   "id": "5b30e187-5888-455b-b0ef-5a7950a405b7",
   "metadata": {},
   "source": [
    "## Train-Test split"
   ]
  },
  {
   "cell_type": "code",
   "execution_count": 5,
   "id": "df930467",
   "metadata": {},
   "outputs": [],
   "source": [
    "# Function to load and preprocess images\n",
    "def preprocess_image(image_path, target_size = (180,180)):\n",
    "    image = Image.open(image_path)\n",
    "    image = image.convert(\"RGB\")\n",
    "    image = image.resize(target_size)\n",
    "    image_array = np.array(image) / 255.0\n",
    "    return image_array\n",
    "\n",
    "dataset_dir = r'C:\\Users\\sejbp\\Coding\\GITHUB\\Mars-Rover-Image-Classification\\Mars Surface and Curiosity Image dataset\\main_dataset'\n",
    "image_paths = []\n",
    "labels = []\n",
    "\n",
    "# Iterate over each class directory\n",
    "for class_name in os.listdir(dataset_dir):\n",
    "    class_dir = os.path.join(dataset_dir, class_name)\n",
    "    if os.path.isdir(class_dir):\n",
    "        # Iterate over images in the class directory\n",
    "        for image_name in os.listdir(class_dir):\n",
    "            image_path = os.path.join(class_dir, image_name)\n",
    "            image_paths.append(image_path)\n",
    "            labels.append(int(class_name))"
   ]
  },
  {
   "cell_type": "code",
   "execution_count": 6,
   "id": "7ba42807",
   "metadata": {},
   "outputs": [],
   "source": [
    "x_train_paths, x_test_paths, y_train, y_test = train_test_split(image_paths, labels, test_size = 0.2, random_state = 42)"
   ]
  },
  {
   "cell_type": "code",
   "execution_count": 7,
   "id": "5419145a",
   "metadata": {},
   "outputs": [],
   "source": [
    "# Load and preprocess images for training set\n",
    "x_train = [preprocess_image(image_path) for image_path in x_train_paths]\n",
    "\n",
    "# Load and preprocess images for testing set\n",
    "x_test = [preprocess_image(image_path) for image_path in x_test_paths]\n",
    "\n",
    "# Convert lists to numpy arrays\n",
    "x_train = np.array(x_train)\n",
    "x_test = np.array(x_test)\n",
    "\n",
    "# Convert labels to numpy arrays\n",
    "y_train = np.array(y_train)\n",
    "y_test = np.array(y_test)"
   ]
  },
  {
   "cell_type": "code",
   "execution_count": 8,
   "id": "6d71e81c",
   "metadata": {},
   "outputs": [
    {
     "name": "stdout",
     "output_type": "stream",
     "text": [
      "x_train shape: (5352, 180, 180, 3)\n",
      "y_train shape: (5352,)\n",
      "x_test shape: (1339, 180, 180, 3)\n",
      "y_test shape: (1339,)\n"
     ]
    }
   ],
   "source": [
    "print(\"x_train shape:\", x_train.shape)\n",
    "print(\"y_train shape:\", y_train.shape)\n",
    "print(\"x_test shape:\", x_test.shape)\n",
    "print(\"y_test shape:\", y_test.shape)"
   ]
  },
  {
   "cell_type": "markdown",
   "id": "775b687b",
   "metadata": {},
   "source": [
    "## Model Architecture"
   ]
  },
  {
   "cell_type": "code",
   "execution_count": 9,
   "id": "f804135b-2a17-45e9-9636-b9ca170eeb65",
   "metadata": {},
   "outputs": [],
   "source": [
    "Early_Stopper = tf.keras.callbacks.EarlyStopping(monitor = \"loss\", patience = 3, mode = \"min\")\n",
    "Checkpoint_Model = tf.keras.callbacks.ModelCheckpoint(monitor = \"val_accuracy\", save_best_only = True, save_weights_only = True,\n",
    "                                                      filepath = \"./modelcheck\")\n",
    "Reduce_Model = tf.keras.callbacks.ReduceLROnPlateau(monitor = \"accuracy\", factor = 0.1, patience = 7)"
   ]
  },
  {
   "cell_type": "code",
   "execution_count": 16,
   "id": "2f0b5b55",
   "metadata": {},
   "outputs": [],
   "source": [
    "Input_Layer = tf.keras.Input(shape = (180, 180, 3))\n",
    "\n",
    "x = Conv2D(32, (3, 3), activation = \"relu\", padding = \"same\")(Input_Layer)\n",
    "x = BatchNormalization()(x)\n",
    "x = MaxPooling2D((2, 2))(x)\n",
    "\n",
    "x = Conv2D(64,(3, 3), activation = \"relu\", padding = \"same\")(x)\n",
    "x = MaxPooling2D((2, 2))(x)\n",
    "\n",
    "x = Conv2D(128, (2, 2), activation = \"relu\", padding = \"same\")(x)\n",
    "x = MaxPooling2D((2, 2))(x)\n",
    "\n",
    "x = Conv2D(256, (2, 2), activation = \"relu\", padding = \"same\")(x)\n",
    "x = GlobalMaxPooling2D()(x)\n",
    "\n",
    "x = Dense(256, activation = \"relu\", kernel_regularizer = l2(0.001))(x)\n",
    "x = Dropout(0.5)(x)\n",
    "\n",
    "class_prediction_layer = Dense(24, activation = \"softmax\", name = \"CLASS_PREDICTION\")(x)"
   ]
  },
  {
   "cell_type": "code",
   "execution_count": 17,
   "id": "97b6a913",
   "metadata": {},
   "outputs": [],
   "source": [
    "model = Model(Input_Layer, class_prediction_layer)"
   ]
  },
  {
   "cell_type": "code",
   "execution_count": 18,
   "id": "e661de9c",
   "metadata": {},
   "outputs": [
    {
     "name": "stdout",
     "output_type": "stream",
     "text": [
      "Model: \"model_1\"\n",
      "_________________________________________________________________\n",
      " Layer (type)                Output Shape              Param #   \n",
      "=================================================================\n",
      " input_3 (InputLayer)        [(None, 180, 180, 3)]     0         \n",
      "                                                                 \n",
      " conv2d_8 (Conv2D)           (None, 180, 180, 32)      896       \n",
      "                                                                 \n",
      " batch_normalization_1 (Bat  (None, 180, 180, 32)      128       \n",
      " chNormalization)                                                \n",
      "                                                                 \n",
      " max_pooling2d_6 (MaxPoolin  (None, 90, 90, 32)        0         \n",
      " g2D)                                                            \n",
      "                                                                 \n",
      " conv2d_9 (Conv2D)           (None, 90, 90, 64)        18496     \n",
      "                                                                 \n",
      " max_pooling2d_7 (MaxPoolin  (None, 45, 45, 64)        0         \n",
      " g2D)                                                            \n",
      "                                                                 \n",
      " conv2d_10 (Conv2D)          (None, 45, 45, 128)       32896     \n",
      "                                                                 \n",
      " max_pooling2d_8 (MaxPoolin  (None, 22, 22, 128)       0         \n",
      " g2D)                                                            \n",
      "                                                                 \n",
      " conv2d_11 (Conv2D)          (None, 22, 22, 256)       131328    \n",
      "                                                                 \n",
      " global_max_pooling2d_2 (Gl  (None, 256)               0         \n",
      " obalMaxPooling2D)                                               \n",
      "                                                                 \n",
      " dense_2 (Dense)             (None, 256)               65792     \n",
      "                                                                 \n",
      " dropout_2 (Dropout)         (None, 256)               0         \n",
      "                                                                 \n",
      " CLASS_PREDICTION (Dense)    (None, 24)                6168      \n",
      "                                                                 \n",
      "=================================================================\n",
      "Total params: 255704 (998.84 KB)\n",
      "Trainable params: 255640 (998.59 KB)\n",
      "Non-trainable params: 64 (256.00 Byte)\n",
      "_________________________________________________________________\n",
      "None\n"
     ]
    }
   ],
   "source": [
    "print(model.summary())"
   ]
  },
  {
   "cell_type": "markdown",
   "id": "650751b4",
   "metadata": {},
   "source": [
    "## Handle imbalances"
   ]
  },
  {
   "cell_type": "code",
   "execution_count": 23,
   "id": "9e6775c9",
   "metadata": {},
   "outputs": [],
   "source": [
    "# Compute class weights\n",
    "class_weights = compute_class_weight('balanced', classes = np.unique(y_train), y = y_train)\n",
    "class_weights_dict = dict(enumerate(class_weights))"
   ]
  },
  {
   "cell_type": "code",
   "execution_count": 24,
   "id": "c17f3bc5",
   "metadata": {},
   "outputs": [],
   "source": [
    "# Define focal loss function\n",
    "def focal_loss(class_weights, gamma = 2.):\n",
    "    def focal_loss_fixed(y_true, y_pred):\n",
    "        pt = y_pred * y_true + (1 - y_pred) * (1 - y_true)\n",
    "        pt = K.clip(pt, K.epsilon(), 1 - K.epsilon())\n",
    "        return -K.sum(class_weights * K.pow(1. - pt, gamma) * K.log(pt), axis = -1)\n",
    "    return focal_loss_fixed"
   ]
  },
  {
   "cell_type": "code",
   "execution_count": null,
   "id": "b9ebb768-f143-423e-b4ef-0835e132a4bd",
   "metadata": {},
   "outputs": [],
   "source": [
    "y_train_encoded = to_categorical(y_train, num_classes = 24)\n",
    "y_test_encoded = to_categorical(y_test, num_classes = 24)"
   ]
  },
  {
   "cell_type": "code",
   "execution_count": null,
   "id": "15536de9",
   "metadata": {},
   "outputs": [],
   "source": [
    "model.compile(optimizer = \"adam\", loss = focal_loss(), metrics = [\"accuracy\"])"
   ]
  },
  {
   "cell_type": "code",
   "execution_count": null,
   "id": "a9935fc0",
   "metadata": {},
   "outputs": [],
   "source": [
    "history = model.fit(x_train, y_train_encoded, epochs=50, batch_size=32, \n",
    "                    validation_data=(x_test, y_test_encoded), \n",
    "                    callbacks=[Early_Stopper, Checkpoint_Model, Reduce_Model],\n",
    "                    class_weight=class_weights_dict)"
   ]
  },
  {
   "cell_type": "code",
   "execution_count": null,
   "id": "a9a7b5ca",
   "metadata": {},
   "outputs": [],
   "source": []
  }
 ],
 "metadata": {
  "kernelspec": {
   "display_name": "Python 3 (ipykernel)",
   "language": "python",
   "name": "python3"
  },
  "language_info": {
   "codemirror_mode": {
    "name": "ipython",
    "version": 3
   },
   "file_extension": ".py",
   "mimetype": "text/x-python",
   "name": "python",
   "nbconvert_exporter": "python",
   "pygments_lexer": "ipython3",
   "version": "3.11.5"
  }
 },
 "nbformat": 4,
 "nbformat_minor": 5
}
